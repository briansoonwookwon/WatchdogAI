{
 "cells": [
  {
   "cell_type": "code",
   "execution_count": null,
   "id": "cd04e7fc",
   "metadata": {},
   "outputs": [
    {
     "name": "stdout",
     "output_type": "stream",
     "text": [
      "Using device: mps\n"
     ]
    }
   ],
   "source": [
    "import torch\n",
    "import torch.nn as nn\n",
    "import torch.optim as optim\n",
    "from torch.utils.data import DataLoader, random_split\n",
    "import torchvision.transforms as transforms\n",
    "from dataset import PosterDataset\n",
    "from tqdm import tqdm\n",
    "import matplotlib.pyplot as plt\n",
    "import os\n",
    "\n",
    "device = torch.device(\"mps\" if torch.backends.mps.is_available() else \"cpu\")\n",
    "print(f\"Using device: {device}\")"
   ]
  },
  {
   "cell_type": "code",
   "execution_count": null,
   "id": "89fd5f93",
   "metadata": {},
   "outputs": [
    {
     "name": "stdout",
     "output_type": "stream",
     "text": [
      "Number of samples: 10000\n",
      "Number of batches: 2500\n"
     ]
    }
   ],
   "source": [
    "transform = transforms.Compose([\n",
    "    transforms.Resize((224, 224)),\n",
    "    transforms.ToTensor(),\n",
    "    transforms.Normalize(mean=[0.485, 0.456, 0.406],\n",
    "                         std=[0.229, 0.224, 0.225])\n",
    "])\n",
    "\n",
    "dataset = PosterDataset(root_dir=\"images\", transform=transform)\n",
    "print(f\"Number of images: {len(dataset)}\")\n",
    "\n",
    "dataloader = DataLoader(dataset, batch_size=4, shuffle=True, num_workers=4)\n",
    "dataset_size = len(dataset)\n",
    "train_size = int(0.8 * dataset_size)\n",
    "val_size = int(0.1 * dataset_size)\n",
    "test_size = dataset_size - train_size - val_size\n",
    "train_dataset, val_dataset, test_dataset = random_split(dataset, [train_size, val_size, test_size])\n",
    "print(f\"Train: {len(train_dataset)}, Val: {len(val_dataset)}, Test: {len(test_dataset)}\")\n",
    "\n",
    "train_loader = DataLoader(train_dataset, batch_size=4, shuffle=True, num_workers=4)\n",
    "val_loader = DataLoader(val_dataset, batch_size=4, shuffle=False, num_workers=4)\n",
    "test_loader = DataLoader(test_dataset, batch_size=4, shuffle=False, num_workers=4)"
   ]
  },
  {
   "cell_type": "code",
   "execution_count": null,
   "id": "0f17d0d5",
   "metadata": {},
   "outputs": [],
   "source": [
    "class BinaryCNN(nn.Module):\n",
    "    def __init__(self):\n",
    "        super(BinaryCNN, self).__init__()\n",
    "        self.features = nn.Sequential(\n",
    "            nn.Conv2d(3, 32, kernel_size=3, stride=1, padding=1),  # for RGB images\n",
    "            nn.ReLU(inplace=True),\n",
    "            nn.MaxPool2d(kernel_size=2),  # reduces spatial dimensions by 2\n",
    "            nn.Conv2d(32, 64, kernel_size=3, stride=1, padding=1),\n",
    "            nn.ReLU(inplace=True),\n",
    "            nn.MaxPool2d(kernel_size=2),\n",
    "            nn.Conv2d(64, 128, kernel_size=3, stride=1, padding=1),\n",
    "            nn.ReLU(inplace=True),\n",
    "            nn.MaxPool2d(kernel_size=2)\n",
    "        )\n",
    "        # After 3 poolings: 224 / 2 / 2 / 2 = 28\n",
    "        self.classifier = nn.Sequential(\n",
    "            nn.Linear(128 * 28 * 28, 256),\n",
    "            nn.ReLU(inplace=True),\n",
    "            nn.Linear(256, 1)  # Binary output\n",
    "        )\n",
    "\n",
    "    def forward(self, x):\n",
    "        x = self.features(x)\n",
    "        x = x.view(x.size(0), -1)  # flatten the tensor\n",
    "        x = self.classifier(x)\n",
    "        return x"
   ]
  },
  {
   "cell_type": "code",
   "execution_count": null,
   "id": "76526318",
   "metadata": {},
   "outputs": [
    {
     "name": "stderr",
     "output_type": "stream",
     "text": [
      "                                                                           \r"
     ]
    },
    {
     "name": "stdout",
     "output_type": "stream",
     "text": [
      "Epoch 1/5 - Loss: 0.5329 - Accuracy: 0.7365\n"
     ]
    },
    {
     "name": "stderr",
     "output_type": "stream",
     "text": [
      "                                                                            \r"
     ]
    },
    {
     "name": "stdout",
     "output_type": "stream",
     "text": [
      "Epoch 2/5 - Loss: 0.4258 - Accuracy: 0.8092\n"
     ]
    },
    {
     "name": "stderr",
     "output_type": "stream",
     "text": [
      "                                                                            \r"
     ]
    },
    {
     "name": "stdout",
     "output_type": "stream",
     "text": [
      "Epoch 3/5 - Loss: 0.3469 - Accuracy: 0.8479\n"
     ]
    },
    {
     "name": "stderr",
     "output_type": "stream",
     "text": [
      "                                                                             \r"
     ]
    },
    {
     "name": "stdout",
     "output_type": "stream",
     "text": [
      "Epoch 4/5 - Loss: 0.2461 - Accuracy: 0.8991\n"
     ]
    },
    {
     "name": "stderr",
     "output_type": "stream",
     "text": [
      "                                                                             "
     ]
    },
    {
     "name": "stdout",
     "output_type": "stream",
     "text": [
      "Epoch 5/5 - Loss: 0.1343 - Accuracy: 0.9465\n"
     ]
    },
    {
     "name": "stderr",
     "output_type": "stream",
     "text": [
      "\r"
     ]
    }
   ],
   "source": [
    "model = BinaryCNN().to(device)\n",
    "criterion = nn.BCEWithLogitsLoss()\n",
    "optimizer = optim.Adam(model.parameters(), lr=0.001)\n",
    "\n",
    "# Training settings\n",
    "epochs = 200\n",
    "best_val_acc = 0.0\n",
    "best_epoch = 0\n",
    "loss_history_train, loss_history_val = [], []\n",
    "acc_history_train, acc_history_val = [], []\n",
    "\n",
    "# Set up a folder to save the best model\n",
    "save_dir = \"models\"\n",
    "run_num = 1\n",
    "run_folder = os.path.join(save_dir, f\"run_{run_num}\")\n",
    "while os.path.exists(run_folder):\n",
    "    run_num += 1\n",
    "    run_folder = os.path.join(save_dir, f\"run_{run_num}\")\n",
    "os.makedirs(run_folder, exist_ok=True)\n",
    "\n",
    "for epoch in range(epochs):\n",
    "    # --- Training phase ---\n",
    "    model.train()\n",
    "    train_loss = 0.0\n",
    "    train_corrects = 0\n",
    "    train_samples = 0\n",
    "    train_bar = tqdm(train_loader, desc=f\"Train Epoch {epoch+1}/{epochs}\", leave=False)\n",
    "    for images, labels in train_bar:\n",
    "        images, labels = images.to(device), labels.to(device)\n",
    "        optimizer.zero_grad()\n",
    "        outputs = model(images)\n",
    "        # Ensure labels are the correct shape/type (float with shape [batch, 1])\n",
    "        labels = labels.float().unsqueeze(1)\n",
    "        loss = criterion(outputs, labels)\n",
    "        loss.backward()\n",
    "        optimizer.step()\n",
    "\n",
    "        train_loss += loss.item() * images.size(0)\n",
    "        preds = (torch.sigmoid(outputs) >= 0.5)\n",
    "        train_corrects += torch.sum(preds == labels.byte()).item()\n",
    "        train_samples += images.size(0)\n",
    "        train_bar.set_postfix(loss=loss.item())\n",
    "        \n",
    "    avg_train_loss = train_loss / train_samples\n",
    "    train_acc = train_corrects / train_samples\n",
    "\n",
    "    # --- Validation phase ---\n",
    "    model.eval()\n",
    "    val_loss = 0.0\n",
    "    val_corrects = 0\n",
    "    val_samples = 0\n",
    "    with torch.no_grad():\n",
    "        for images, labels in val_loader:\n",
    "            images, labels = images.to(device), labels.to(device)\n",
    "            outputs = model(images)\n",
    "            labels = labels.float().unsqueeze(1)\n",
    "            loss = criterion(outputs, labels)\n",
    "            val_loss += loss.item() * images.size(0)\n",
    "            preds = (torch.sigmoid(outputs) >= 0.5)\n",
    "            val_corrects += torch.sum(preds == labels.byte()).item()\n",
    "            val_samples += images.size(0)\n",
    "    avg_val_loss = val_loss / val_samples\n",
    "    val_acc = val_corrects / val_samples\n",
    "\n",
    "    # Save best model based on validation accuracy\n",
    "    if val_acc > best_val_acc:\n",
    "        best_val_acc = val_acc\n",
    "        best_epoch = epoch\n",
    "        torch.save(model.state_dict(), os.path.join(run_folder, \"best_model.pth\"))\n",
    "\n",
    "    loss_history_train.append(avg_train_loss)\n",
    "    loss_history_val.append(avg_val_loss)\n",
    "    acc_history_train.append(train_acc)\n",
    "    acc_history_val.append(val_acc)\n",
    "\n",
    "    # Update loss and accuracy plots side by side\n",
    "    clear_output(wait=True)\n",
    "    fig, ax = plt.subplots(1, 2, figsize=(12, 5))\n",
    "    # Loss plot\n",
    "    ax[0].plot(loss_history_train, label=\"Train Loss\")\n",
    "    ax[0].plot(loss_history_val, label=\"Val Loss\")\n",
    "    ax[0].set_title(\"Loss over Epochs\")\n",
    "    ax[0].set_xlabel(\"Epoch\")\n",
    "    ax[0].set_ylabel(\"Loss\")\n",
    "    ax[0].legend()\n",
    "    # Accuracy plot\n",
    "    ax[1].plot(acc_history_train, label=\"Train Accuracy\")\n",
    "    ax[1].plot(acc_history_val, label=\"Val Accuracy\")\n",
    "    ax[1].set_title(\"Accuracy over Epochs\")\n",
    "    ax[1].set_xlabel(\"Epoch\")\n",
    "    ax[1].set_ylabel(\"Accuracy\")\n",
    "    ax[1].legend()\n",
    "    plt.show()\n",
    "\n",
    "    # Print epoch results\n",
    "    print(f\"Epoch {epoch+1}/{epochs}\")\n",
    "    print(f\"  Train Loss: {avg_train_loss:.4f}, Train Acc: {train_acc:.4f}\")\n",
    "    print(f\"  Val   Loss: {avg_val_loss:.4f}, Val   Acc: {val_acc:.4f}\")\n",
    "    print(f\"  Best Val Acc: {best_val_acc:.4f} at Epoch {best_epoch+1}\")\n",
    "    print(f\"  Learning Rate: {optimizer.param_groups[0]['lr']:.6f}\")"
   ]
  }
 ],
 "metadata": {
  "kernelspec": {
   "display_name": ".venv",
   "language": "python",
   "name": "python3"
  },
  "language_info": {
   "codemirror_mode": {
    "name": "ipython",
    "version": 3
   },
   "file_extension": ".py",
   "mimetype": "text/x-python",
   "name": "python",
   "nbconvert_exporter": "python",
   "pygments_lexer": "ipython3",
   "version": "3.11.5"
  }
 },
 "nbformat": 4,
 "nbformat_minor": 5
}
