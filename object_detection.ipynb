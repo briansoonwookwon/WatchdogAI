{
 "cells": [
  {
   "cell_type": "markdown",
   "metadata": {},
   "source": [
    "# Steps to follow\n",
    "\n",
    "- clome the mmdetection repo: https://github.com/open-mmlab/mmdetection\n",
    "- pip install -e . in the mmdetection directory\n",
    "- Change the file: mmdetection/configs/htc/htc_r50_fpn_1x_artifact.py\n",
    "\n",
    "\n",
    "python tools/train.py configs/htc/htc_r50_fpn_1x_artifact.py --cfg-options device=mps\n"
   ]
  },
  {
   "cell_type": "code",
   "execution_count": 3,
   "metadata": {},
   "outputs": [
    {
     "name": "stdout",
     "output_type": "stream",
     "text": [
      "loading annotations into memory...\n",
      "Done (t=0.00s)\n",
      "creating index...\n",
      "index created!\n",
      "loading annotations into memory...\n",
      "Done (t=0.00s)\n",
      "creating index...\n",
      "index created!\n",
      "loading annotations into memory...\n",
      "Done (t=0.00s)\n",
      "creating index...\n",
      "index created!\n",
      "Train images: 69\n",
      "Validation images: 25\n",
      "Test images: 10\n"
     ]
    }
   ],
   "source": [
    "from pycocotools.coco import COCO\n",
    "\n",
    "# Paths to your COCO annotation files\n",
    "train_anno = '/Users/jbm/Documents/DSAN_6500/WatchdogAI/data_artifacts/train/_annotations.coco.json'\n",
    "valid_anno = '/Users/jbm/Documents/DSAN_6500/WatchdogAI/data_artifacts/valid/_annotations.coco.json'\n",
    "test_anno = '/Users/jbm/Documents/DSAN_6500/WatchdogAI/data_artifacts/test/_annotations.coco.json'\n",
    "\n",
    "# Load each dataset\n",
    "coco_train = COCO(train_anno)\n",
    "coco_valid = COCO(valid_anno)\n",
    "coco_test = COCO(test_anno)\n",
    "\n",
    "# Print number of images\n",
    "print(f\"Train images: {len(coco_train.getImgIds())}\")\n",
    "print(f\"Validation images: {len(coco_valid.getImgIds())}\")\n",
    "print(f\"Test images: {len(coco_test.getImgIds())}\")"
   ]
  },
  {
   "cell_type": "code",
   "execution_count": 2,
   "metadata": {},
   "outputs": [
    {
     "name": "stdout",
     "output_type": "stream",
     "text": [
      "✅ Split complete. Test now has 10 images. Others redistributed to train and valid.\n"
     ]
    }
   ],
   "source": [
    "import json\n",
    "import random\n",
    "from pathlib import Path\n",
    "\n",
    "# Paths\n",
    "base_dir = Path('/Users/jbm/Documents/DSAN_6500/WatchdogAI/data_artifacts/')\n",
    "train_path = base_dir / 'train/_annotations.coco.json'\n",
    "valid_path = base_dir / 'valid/_annotations.coco.json'\n",
    "test_path  = base_dir / 'test/_annotations.coco.json'\n",
    "\n",
    "# Load annotation files\n",
    "with open(train_path) as f:\n",
    "    train_data = json.load(f)\n",
    "with open(valid_path) as f:\n",
    "    valid_data = json.load(f)\n",
    "with open(test_path) as f:\n",
    "    test_data = json.load(f)\n",
    "\n",
    "# Shuffle and split test images\n",
    "random.seed(42)\n",
    "random.shuffle(test_data['images'])\n",
    "\n",
    "test_images = test_data['images'][:10]\n",
    "extra_images = test_data['images'][10:]\n",
    "\n",
    "# Get image ids to move\n",
    "extra_ids = {img['id'] for img in extra_images}\n",
    "test_ids = {img['id'] for img in test_images}\n",
    "\n",
    "# Separate corresponding annotations\n",
    "extra_annotations = [ann for ann in test_data['annotations'] if ann['image_id'] in extra_ids]\n",
    "test_annotations  = [ann for ann in test_data['annotations'] if ann['image_id'] in test_ids]\n",
    "\n",
    "# Split the extra images between train and val\n",
    "extra_val = extra_images[:6]\n",
    "extra_train = extra_images[6:]\n",
    "\n",
    "extra_val_ids = {img['id'] for img in extra_val}\n",
    "extra_train_ids = {img['id'] for img in extra_train}\n",
    "\n",
    "extra_val_annotations = [ann for ann in extra_annotations if ann['image_id'] in extra_val_ids]\n",
    "extra_train_annotations = [ann for ann in extra_annotations if ann['image_id'] in extra_train_ids]\n",
    "\n",
    "# Update original files\n",
    "train_data['images'].extend(extra_train)\n",
    "train_data['annotations'].extend(extra_train_annotations)\n",
    "\n",
    "valid_data['images'].extend(extra_val)\n",
    "valid_data['annotations'].extend(extra_val_annotations)\n",
    "\n",
    "test_data['images'] = test_images\n",
    "test_data['annotations'] = test_annotations\n",
    "\n",
    "# Save back to disk\n",
    "with open(train_path, 'w') as f:\n",
    "    json.dump(train_data, f)\n",
    "\n",
    "with open(valid_path, 'w') as f:\n",
    "    json.dump(valid_data, f)\n",
    "\n",
    "with open(test_path, 'w') as f:\n",
    "    json.dump(test_data, f)\n",
    "\n",
    "print(\"✅ Split complete. Test now has 10 images. Others redistributed to train and valid.\")"
   ]
  }
 ],
 "metadata": {
  "kernelspec": {
   "display_name": "mmdet",
   "language": "python",
   "name": "python3"
  },
  "language_info": {
   "codemirror_mode": {
    "name": "ipython",
    "version": 3
   },
   "file_extension": ".py",
   "mimetype": "text/x-python",
   "name": "python",
   "nbconvert_exporter": "python",
   "pygments_lexer": "ipython3",
   "version": "3.10.17"
  }
 },
 "nbformat": 4,
 "nbformat_minor": 2
}
