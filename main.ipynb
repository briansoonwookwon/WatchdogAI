{
 "cells": [
  {
   "cell_type": "markdown",
   "id": "9cdc8c3b",
   "metadata": {},
   "source": [
    "# Setup"
   ]
  },
  {
   "cell_type": "code",
   "execution_count": null,
   "id": "cd04e7fc",
   "metadata": {},
   "outputs": [],
   "source": [
    "import torch\n",
    "import torch.nn as nn\n",
    "import torch.optim as optim\n",
    "\n",
    "from src.dataset import PosterDataset\n",
    "from src.train import train, test\n",
    "from src.models import Simple3BlockCNN, BNDropout3BlockCNN\n",
    "from src.utils import split_data, print_history"
   ]
  },
  {
   "cell_type": "code",
   "execution_count": null,
   "id": "0688c657",
   "metadata": {},
   "outputs": [],
   "source": [
    "BATCH_SIZE = 32\n",
    "TRAIN_SIZE = 0.8\n",
    "EPOCHS = 30\n",
    "LEARNING_RATE = 1e-3\n",
    "PATIENCE = 5"
   ]
  },
  {
   "cell_type": "code",
   "execution_count": null,
   "id": "89fd5f93",
   "metadata": {},
   "outputs": [],
   "source": [
    "train_loader, val_loader, test_loader = split_data(\"data\", batch_size=BATCH_SIZE, train_size=TRAIN_SIZE)"
   ]
  },
  {
   "cell_type": "markdown",
   "id": "c1c9d37a",
   "metadata": {},
   "source": [
    "# Training"
   ]
  },
  {
   "cell_type": "code",
   "execution_count": null,
   "id": "76526318",
   "metadata": {},
   "outputs": [],
   "source": [
    "model = Simple3BlockCNN()\n",
    "criterion = nn.BCEWithLogitsLoss()\n",
    "optimizer = optim.Adam(model.parameters(), lr=LEARNING_RATE, weight_decay=1e-4)\n",
    "scheduler = optim.lr_scheduler.ReduceLROnPlateau(optimizer, mode='min', patience=2)\n",
    "\n",
    "history = train(\n",
    "    model=model,\n",
    "    train_loader=train_loader,\n",
    "    val_loader=val_loader,\n",
    "    criterion=criterion,\n",
    "    optimizer=optimizer,\n",
    "    scheduler=scheduler,\n",
    "    epochs=EPOCHS,\n",
    "    patience=PATIENCE\n",
    ")"
   ]
  },
  {
   "cell_type": "code",
   "execution_count": null,
   "id": "ae7e877f",
   "metadata": {},
   "outputs": [],
   "source": [
    "history_path = \"models/run_3/history.json\"\n",
    "print_history(history_path)"
   ]
  },
  {
   "cell_type": "markdown",
   "id": "96102d67",
   "metadata": {},
   "source": [
    "# Testing"
   ]
  },
  {
   "cell_type": "code",
   "execution_count": null,
   "id": "4f404546",
   "metadata": {},
   "outputs": [],
   "source": [
    "simple_model = Simple3BlockCNN()\n",
    "simple_model_path = \"models/run_1/best_model.pth\"\n",
    "simple_model.load_state_dict(torch.load(simple_model_path))\n",
    "\n",
    "enhanced_model = BNDropout3BlockCNN()\n",
    "enhanced_model_path = \"models/run_3/best_model.pth\"\n",
    "enhanced_model.load_state_dict(torch.load(enhanced_model_path))\n",
    "\n",
    "criterion = nn.BCEWithLogitsLoss()"
   ]
  },
  {
   "cell_type": "code",
   "execution_count": null,
   "id": "46a9e137",
   "metadata": {},
   "outputs": [],
   "source": [
    "simple_test = test(model=simple_model,\n",
    "                   test_loader=test_loader,\n",
    "                   criterion=criterion)\n",
    "\n",
    "enhanced_test = test(model=enhanced_model,\n",
    "                     test_loader=test_loader,\n",
    "                     criterion=criterion)"
   ]
  },
  {
   "cell_type": "code",
   "execution_count": null,
   "id": "c03261b5",
   "metadata": {},
   "outputs": [],
   "source": [
    "from tabulate import tabulate\n",
    "\n",
    "table_data = [\n",
    "    [\"Simple3BlockCNN\", round(simple_test[0], 3), simple_test[1]],\n",
    "    [\"BNDropout3BlockCNN\", round(enhanced_test[0], 3), enhanced_test[1]],\n",
    "]\n",
    "\n",
    "headers = [\"Model\", \"Loss\", \"Accuracy\"]\n",
    "\n",
    "print(tabulate(table_data, headers=headers))\n"
   ]
  }
 ],
 "metadata": {
  "kernelspec": {
   "display_name": ".venv",
   "language": "python",
   "name": "python3"
  },
  "language_info": {
   "codemirror_mode": {
    "name": "ipython",
    "version": 3
   },
   "file_extension": ".py",
   "mimetype": "text/x-python",
   "name": "python",
   "nbconvert_exporter": "python",
   "pygments_lexer": "ipython3",
   "version": "3.11.5"
  }
 },
 "nbformat": 4,
 "nbformat_minor": 5
}
