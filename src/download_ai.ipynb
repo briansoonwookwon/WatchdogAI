{
 "cells": [
  {
   "cell_type": "code",
   "execution_count": 3,
   "id": "e41bebc4",
   "metadata": {},
   "outputs": [
    {
     "name": "stdout",
     "output_type": "stream",
     "text": [
      "Found 36171 candidate poster prompts\n"
     ]
    }
   ],
   "source": [
    "import os, shutil\n",
    "import pandas as pd\n",
    "import numpy as np\n",
    "from huggingface_hub import hf_hub_download, snapshot_download\n",
    "\n",
    "parquet_path = hf_hub_download(\n",
    "    repo_id=\"poloclub/diffusiondb\",\n",
    "    filename=\"metadata.parquet\",\n",
    "    repo_type=\"dataset\"\n",
    ")\n",
    "\n",
    "meta = pd.read_parquet(parquet_path,\n",
    "                     columns=[\"image_name\", \"prompt\", \"part_id\"])\n",
    "\n",
    "mask = meta[\"prompt\"].str.contains(r\"\\bposter\\b\", case=False, na=False)\n",
    "posters = meta[mask].reset_index(drop=True)\n",
    "\n",
    "print(f\"Found {len(posters)} candidate poster prompts\")"
   ]
  },
  {
   "cell_type": "code",
   "execution_count": null,
   "id": "2020c764",
   "metadata": {},
   "outputs": [
    {
     "name": "stdout",
     "output_type": "stream",
     "text": [
      "Patterns to download:\n",
      "images/part-000690/bce5ad7c-fc36-4fe7-902a-57ba31863903.png\n",
      "images/part-001708/c1a63dda-60eb-4ce9-aa89-2ae9724797c7.png\n",
      "images/part-001993/7f4ec28e-8cbb-4944-95b2-6a94de784d39.png\n",
      "images/part-000976/49f0f46f-c46b-4927-8964-97884ff48f19.png\n",
      "images/part-001302/587daf5e-68f4-43d0-9663-cb43c32d53db.png\n",
      "5 patterns to download\n"
     ]
    },
    {
     "data": {
      "application/vnd.jupyter.widget-view+json": {
       "model_id": "116980aaac8b44409d4807f8cf7f3b76",
       "version_major": 2,
       "version_minor": 0
      },
      "text/plain": [
       "Fetching 16006 files:   0%|          | 0/16006 [00:00<?, ?it/s]"
      ]
     },
     "metadata": {},
     "output_type": "display_data"
    },
    {
     "data": {
      "application/vnd.jupyter.widget-view+json": {
       "model_id": "63270b69024f4a4795323aa6ad4853b0",
       "version_major": 2,
       "version_minor": 0
      },
      "text/plain": [
       ".gitignore:   0%|          | 0.00/27.0 [00:00<?, ?B/s]"
      ]
     },
     "metadata": {},
     "output_type": "display_data"
    },
    {
     "data": {
      "application/vnd.jupyter.widget-view+json": {
       "model_id": "225b1558ab5a4d7087c7864e21a97db2",
       "version_major": 2,
       "version_minor": 0
      },
      "text/plain": [
       ".gitattributes:   0%|          | 0.00/2.22k [00:00<?, ?B/s]"
      ]
     },
     "metadata": {},
     "output_type": "display_data"
    },
    {
     "data": {
      "application/vnd.jupyter.widget-view+json": {
       "model_id": "c5c2b1e8224b40308d3b4aec00f5ad30",
       "version_major": 2,
       "version_minor": 0
      },
      "text/plain": [
       "part-000001.zip:   0%|          | 0.00/528M [00:00<?, ?B/s]"
      ]
     },
     "metadata": {},
     "output_type": "display_data"
    },
    {
     "data": {
      "application/vnd.jupyter.widget-view+json": {
       "model_id": "6a81e2f15c004478ae86a131e56e784e",
       "version_major": 2,
       "version_minor": 0
      },
      "text/plain": [
       "part-000002.zip:   0%|          | 0.00/512M [00:00<?, ?B/s]"
      ]
     },
     "metadata": {},
     "output_type": "display_data"
    },
    {
     "data": {
      "application/vnd.jupyter.widget-view+json": {
       "model_id": "0d50620f1d034942a18810d4118f3931",
       "version_major": 2,
       "version_minor": 0
      },
      "text/plain": [
       "part-000005.zip:   0%|          | 0.00/458M [00:00<?, ?B/s]"
      ]
     },
     "metadata": {},
     "output_type": "display_data"
    },
    {
     "data": {
      "application/vnd.jupyter.widget-view+json": {
       "model_id": "7576612f75e4472080c71a6cf9c76b3d",
       "version_major": 2,
       "version_minor": 0
      },
      "text/plain": [
       "part-000004.zip:   0%|          | 0.00/451M [00:00<?, ?B/s]"
      ]
     },
     "metadata": {},
     "output_type": "display_data"
    },
    {
     "data": {
      "application/vnd.jupyter.widget-view+json": {
       "model_id": "fc586edaa57e4d67b5ecd81114155360",
       "version_major": 2,
       "version_minor": 0
      },
      "text/plain": [
       "part-000006.zip:   0%|          | 0.00/424M [00:00<?, ?B/s]"
      ]
     },
     "metadata": {},
     "output_type": "display_data"
    },
    {
     "data": {
      "application/vnd.jupyter.widget-view+json": {
       "model_id": "5a9fcb01e6794d6e9898dae3c010717c",
       "version_major": 2,
       "version_minor": 0
      },
      "text/plain": [
       "part-000003.zip:   0%|          | 0.00/524M [00:00<?, ?B/s]"
      ]
     },
     "metadata": {},
     "output_type": "display_data"
    },
    {
     "data": {
      "application/vnd.jupyter.widget-view+json": {
       "model_id": "74b7cea094a94bb498fd2bd87be9b3cb",
       "version_major": 2,
       "version_minor": 0
      },
      "text/plain": [
       "part-000007.zip:   0%|          | 0.00/454M [00:00<?, ?B/s]"
      ]
     },
     "metadata": {},
     "output_type": "display_data"
    },
    {
     "data": {
      "application/vnd.jupyter.widget-view+json": {
       "model_id": "d406b31417af4030bc0ca78174770e63",
       "version_major": 2,
       "version_minor": 0
      },
      "text/plain": [
       "part-000008.zip:   0%|          | 0.00/530M [00:00<?, ?B/s]"
      ]
     },
     "metadata": {},
     "output_type": "display_data"
    },
    {
     "data": {
      "application/vnd.jupyter.widget-view+json": {
       "model_id": "684934f867ca40288cea28cd42b08909",
       "version_major": 2,
       "version_minor": 0
      },
      "text/plain": [
       "part-000009.zip:   0%|          | 0.00/519M [00:00<?, ?B/s]"
      ]
     },
     "metadata": {},
     "output_type": "display_data"
    },
    {
     "data": {
      "application/vnd.jupyter.widget-view+json": {
       "model_id": "ba5ccdec30a4407481115419160224d0",
       "version_major": 2,
       "version_minor": 0
      },
      "text/plain": [
       "part-000010.zip:   0%|          | 0.00/459M [00:00<?, ?B/s]"
      ]
     },
     "metadata": {},
     "output_type": "display_data"
    },
    {
     "data": {
      "application/vnd.jupyter.widget-view+json": {
       "model_id": "5e2c77173e2447939d2aa3e46b3abfc2",
       "version_major": 2,
       "version_minor": 0
      },
      "text/plain": [
       "part-000011.zip:   0%|          | 0.00/477M [00:00<?, ?B/s]"
      ]
     },
     "metadata": {},
     "output_type": "display_data"
    },
    {
     "data": {
      "application/vnd.jupyter.widget-view+json": {
       "model_id": "ff8c67583c844cd988c281d016419489",
       "version_major": 2,
       "version_minor": 0
      },
      "text/plain": [
       "part-000012.zip:   0%|          | 0.00/476M [00:00<?, ?B/s]"
      ]
     },
     "metadata": {},
     "output_type": "display_data"
    },
    {
     "data": {
      "application/vnd.jupyter.widget-view+json": {
       "model_id": "4076d44b049a4679a4bf88c2311969b9",
       "version_major": 2,
       "version_minor": 0
      },
      "text/plain": [
       "part-000013.zip:   0%|          | 0.00/387M [00:00<?, ?B/s]"
      ]
     },
     "metadata": {},
     "output_type": "display_data"
    },
    {
     "data": {
      "application/vnd.jupyter.widget-view+json": {
       "model_id": "e5b718318dea44afb14ae533c08e563a",
       "version_major": 2,
       "version_minor": 0
      },
      "text/plain": [
       "part-000014.zip:   0%|          | 0.00/401M [00:00<?, ?B/s]"
      ]
     },
     "metadata": {},
     "output_type": "display_data"
    },
    {
     "data": {
      "application/vnd.jupyter.widget-view+json": {
       "model_id": "7fed885034bc4d358d18cbcdac91b15f",
       "version_major": 2,
       "version_minor": 0
      },
      "text/plain": [
       "part-000015.zip:   0%|          | 0.00/442M [00:00<?, ?B/s]"
      ]
     },
     "metadata": {},
     "output_type": "display_data"
    },
    {
     "data": {
      "application/vnd.jupyter.widget-view+json": {
       "model_id": "204a458ed4ae4ead940ef10560e971c4",
       "version_major": 2,
       "version_minor": 0
      },
      "text/plain": [
       "part-000016.zip:   0%|          | 0.00/417M [00:00<?, ?B/s]"
      ]
     },
     "metadata": {},
     "output_type": "display_data"
    },
    {
     "data": {
      "application/vnd.jupyter.widget-view+json": {
       "model_id": "2db455fe667f4b368a8288609e2fefdd",
       "version_major": 2,
       "version_minor": 0
      },
      "text/plain": [
       "part-000017.zip:   0%|          | 0.00/433M [00:00<?, ?B/s]"
      ]
     },
     "metadata": {},
     "output_type": "display_data"
    },
    {
     "data": {
      "application/vnd.jupyter.widget-view+json": {
       "model_id": "4c6e634fa1554137b8b1eaedbe2c34dc",
       "version_major": 2,
       "version_minor": 0
      },
      "text/plain": [
       "part-000018.zip:   0%|          | 0.00/490M [00:00<?, ?B/s]"
      ]
     },
     "metadata": {},
     "output_type": "display_data"
    },
    {
     "data": {
      "application/vnd.jupyter.widget-view+json": {
       "model_id": "cff1a21d1d4d4fe0ad23fcfe9ff6901e",
       "version_major": 2,
       "version_minor": 0
      },
      "text/plain": [
       "part-000019.zip:   0%|          | 0.00/457M [00:00<?, ?B/s]"
      ]
     },
     "metadata": {},
     "output_type": "display_data"
    },
    {
     "data": {
      "application/vnd.jupyter.widget-view+json": {
       "model_id": "d355463e6a3a445c9754d2846dde007c",
       "version_major": 2,
       "version_minor": 0
      },
      "text/plain": [
       "part-000020.zip:   0%|          | 0.00/429M [00:00<?, ?B/s]"
      ]
     },
     "metadata": {},
     "output_type": "display_data"
    },
    {
     "data": {
      "application/vnd.jupyter.widget-view+json": {
       "model_id": "4a54d26f621d4b2dae4c74aed6f8d468",
       "version_major": 2,
       "version_minor": 0
      },
      "text/plain": [
       "part-000021.zip:   0%|          | 0.00/446M [00:00<?, ?B/s]"
      ]
     },
     "metadata": {},
     "output_type": "display_data"
    },
    {
     "data": {
      "application/vnd.jupyter.widget-view+json": {
       "model_id": "693da2504b514bb3bb0aa3e00b55b8e5",
       "version_major": 2,
       "version_minor": 0
      },
      "text/plain": [
       "part-000022.zip:   0%|          | 0.00/417M [00:00<?, ?B/s]"
      ]
     },
     "metadata": {},
     "output_type": "display_data"
    }
   ],
   "source": [
    "sampled = posters.sample(n=5, random_state=42)  # Change to desired number\n",
    "\n",
    "out_dir = \"/Users/tsigall/repositories/WatchdogAI/data/ai_posters\"\n",
    "os.makedirs(out_dir, exist_ok=True)\n",
    "\n",
    "patterns = [\n",
    "    f\"images/part-{int(pid):06d}/{img}\" \n",
    "    for pid, img in zip(sampled.part_id, sampled.image_name)\n",
    "]\n",
    "\n",
    "print(\"Patterns to download:\")\n",
    "for pattern in patterns:\n",
    "    print(pattern)\n",
    "\n",
    "print(len(patterns), \"patterns to download\")\n",
    "\n",
    "# Download only those files into a cache dir\n",
    "cache_dir = snapshot_download(\n",
    "    repo_id=\"poloclub/diffusiondb\",\n",
    "    repo_type=\"dataset\"\n",
    ")\n",
    "print(f\"Downloaded {len(os.listdir(cache_dir))} files to {cache_dir}\")"
   ]
  }
 ],
 "metadata": {
  "kernelspec": {
   "display_name": ".venv",
   "language": "python",
   "name": "python3"
  },
  "language_info": {
   "codemirror_mode": {
    "name": "ipython",
    "version": 3
   },
   "file_extension": ".py",
   "mimetype": "text/x-python",
   "name": "python",
   "nbconvert_exporter": "python",
   "pygments_lexer": "ipython3",
   "version": "3.11.5"
  }
 },
 "nbformat": 4,
 "nbformat_minor": 5
}
