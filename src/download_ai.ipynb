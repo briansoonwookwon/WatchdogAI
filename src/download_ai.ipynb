{
 "cells": [
  {
   "cell_type": "code",
   "execution_count": 1,
   "id": "e41bebc4",
   "metadata": {},
   "outputs": [
    {
     "name": "stdout",
     "output_type": "stream",
     "text": [
      "Found 36171 candidate poster prompts\n"
     ]
    }
   ],
   "source": [
    "import os, shutil\n",
    "from tqdm import tqdm\n",
    "import pandas as pd\n",
    "import zipfile\n",
    "from huggingface_hub import hf_hub_download, snapshot_download\n",
    "\n",
    "num_images_to_download = 5000\n",
    "out_dir = \"/Users/tsigall/repositories/WatchdogAI/data/ai_posters\"\n",
    "repo_id = \"poloclub/diffusiondb\"\n",
    "repo_type = \"dataset\"\n",
    "\n",
    "parquet_path = hf_hub_download(\n",
    "    repo_id=repo_id,\n",
    "    filename=\"metadata.parquet\",\n",
    "    repo_type=repo_type\n",
    ")\n",
    "\n",
    "meta = pd.read_parquet(parquet_path,\n",
    "                     columns=[\"image_name\", \"prompt\", \"part_id\"])\n",
    "\n",
    "mask = meta[\"prompt\"].str.contains(r\"\\bposter\\b\", case=False, na=False)\n",
    "posters = meta[mask].reset_index(drop=True)\n",
    "\n",
    "print(f\"Found {len(posters)} candidate poster prompts\")"
   ]
  },
  {
   "cell_type": "code",
   "execution_count": 2,
   "id": "09340bc3",
   "metadata": {},
   "outputs": [
    {
     "name": "stdout",
     "output_type": "stream",
     "text": [
      "Identified 1600 zip files needed for 5000 images.\n"
     ]
    },
    {
     "data": {
      "application/vnd.jupyter.widget-view+json": {
       "model_id": "0a8f57de66194b6da19909a3e0520564",
       "version_major": 2,
       "version_minor": 0
      },
      "text/plain": [
       "Fetching 0 files: 0it [00:00, ?it/s]"
      ]
     },
     "metadata": {},
     "output_type": "display_data"
    },
    {
     "name": "stdout",
     "output_type": "stream",
     "text": [
      "Zip files downloaded to cache: /Users/tsigall/.cache/huggingface/hub/datasets--poloclub--diffusiondb/snapshots/fb620fbe49fa4420e0734bd9c0df11f51176b61f\n",
      "Looking for zips in: /Users/tsigall/.cache/huggingface/hub/datasets--poloclub--diffusiondb/snapshots/fb620fbe49fa4420e0734bd9c0df11f51176b61f/diffusiondb-large-part-1\n"
     ]
    }
   ],
   "source": [
    "sampled = posters.sample(n=num_images_to_download, random_state=621)\n",
    "\n",
    "required_part_ids = sampled['part_id'].unique()\n",
    "zip_patterns = [f\"part-{int(pid):06d}.zip\" for pid in required_part_ids]\n",
    "print(f\"Identified {len(zip_patterns)} zip files needed for {num_images_to_download} images.\")\n",
    "\n",
    "\n",
    "\n",
    "cache_dir = snapshot_download(\n",
    "    repo_id=repo_id,\n",
    "    repo_type=repo_type,\n",
    "    allow_patterns=zip_patterns,\n",
    "    local_dir_use_symlinks=False, # Keep this for reliability\n",
    ")\n",
    "print(f\"Zip files downloaded to cache: {cache_dir}\")\n",
    "# Assume zips are in a subdirectory based on previous info\n",
    "zip_location_in_cache = os.path.join(cache_dir, \"diffusiondb-large-part-1\")\n",
    "if not os.path.isdir(zip_location_in_cache):\n",
    "    zip_location_in_cache = cache_dir # Fallback\n",
    "print(f\"Looking for zips in: {zip_location_in_cache}\")"
   ]
  },
  {
   "cell_type": "code",
   "execution_count": 3,
   "id": "1adf185a",
   "metadata": {},
   "outputs": [
    {
     "name": "stdout",
     "output_type": "stream",
     "text": [
      "Extracting 5000 images to /Users/tsigall/repositories/WatchdogAI/data/ai_posters...\n"
     ]
    },
    {
     "name": "stderr",
     "output_type": "stream",
     "text": [
      "Extracting: 100%|██████████| 5000/5000 [00:00<00:00, 8060.44it/s]"
     ]
    },
    {
     "name": "stdout",
     "output_type": "stream",
     "text": [
      "\n",
      "Extraction complete. Successfully extracted 0 new images.\n"
     ]
    },
    {
     "name": "stderr",
     "output_type": "stream",
     "text": [
      "\n"
     ]
    }
   ],
   "source": [
    "os.makedirs(out_dir, exist_ok=True)\n",
    "extracted_count = 0\n",
    "print(f\"Extracting {len(sampled)} images to {out_dir}...\")\n",
    "\n",
    "for _, row in tqdm(sampled.iterrows(), total=len(sampled), desc=\"Extracting\"):\n",
    "    part_id = int(row['part_id'])\n",
    "    image_name = row['image_name']\n",
    "\n",
    "    zip_filename = f\"part-{part_id:06d}.zip\"\n",
    "    zip_file_path = os.path.join(zip_location_in_cache, zip_filename)\n",
    "\n",
    "    # Path of the image *inside* the zip archive\n",
    "    image_path_in_zip = f\"images/part-{part_id:06d}/{image_name}\"\n",
    "\n",
    "    # Destination path for the extracted image\n",
    "    output_image_path = os.path.join(out_dir, image_name)\n",
    "\n",
    "    # Simplified extraction - assumes zip exists and contains the image\n",
    "    if os.path.exists(zip_file_path) and not os.path.exists(output_image_path):\n",
    "        try:\n",
    "            with zipfile.ZipFile(zip_file_path, 'r') as zf:\n",
    "                with zf.open(image_path_in_zip) as source, open(output_image_path, \"wb\") as target:\n",
    "                    shutil.copyfileobj(source, target)\n",
    "                extracted_count += 1\n",
    "        except (KeyError, zipfile.BadZipFile, FileNotFoundError) as e:\n",
    "             # Catch specific, common extraction errors but keep it brief\n",
    "             # print(f\"Skipping {image_name}: Error accessing {zip_filename} or image within. Details: {e}\")\n",
    "             pass # Silently skip on error in concise version\n",
    "        except Exception as e:\n",
    "             # Catch unexpected errors during extraction\n",
    "             print(f\"Warning: Unexpected error extracting {image_name}: {e}\")\n",
    "\n",
    "\n",
    "print(f\"\\nExtraction complete. Successfully extracted {extracted_count} new images.\")\n"
   ]
  }
 ],
 "metadata": {
  "kernelspec": {
   "display_name": ".venv",
   "language": "python",
   "name": "python3"
  },
  "language_info": {
   "codemirror_mode": {
    "name": "ipython",
    "version": 3
   },
   "file_extension": ".py",
   "mimetype": "text/x-python",
   "name": "python",
   "nbconvert_exporter": "python",
   "pygments_lexer": "ipython3",
   "version": "3.11.5"
  }
 },
 "nbformat": 4,
 "nbformat_minor": 5
}
