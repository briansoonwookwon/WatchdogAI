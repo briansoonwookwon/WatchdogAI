{
 "cells": [
  {
   "cell_type": "code",
   "execution_count": 1,
   "id": "2dc44fa8",
   "metadata": {},
   "outputs": [],
   "source": [
    "import torch\n",
    "import torch.nn as nn\n",
    "import torch.optim as optim\n",
    "from torch.utils.data import DataLoader, random_split, ConcatDataset\n",
    "from torchvision import datasets, transforms, models\n",
    "from tqdm import tqdm "
   ]
  },
  {
   "cell_type": "code",
   "execution_count": 2,
   "id": "653aa8de",
   "metadata": {},
   "outputs": [],
   "source": [
    "IMAGE_SIZE = 224\n",
    "\n",
    "transform = transforms.Compose([\n",
    "    transforms.Resize((IMAGE_SIZE, IMAGE_SIZE)),\n",
    "    transforms.RandomHorizontalFlip(),\n",
    "    transforms.ToTensor(),\n",
    "    transforms.Normalize((0.5, 0.5, 0.5), (0.5, 0.5, 0.5)),\n",
    "])"
   ]
  },
  {
   "cell_type": "code",
   "execution_count": 3,
   "id": "58aaa806",
   "metadata": {},
   "outputs": [],
   "source": [
    "mncai_dataset = datasets.ImageFolder(root=\"./data/mncai/train\", transform=transform)\n",
    "\n",
    "val_ratio = 0.2  \n",
    "test_ratio = 0.1\n",
    "train_size = int((1 - val_ratio - test_ratio) * len(mncai_dataset))\n",
    "val_size = int(val_ratio * len(mncai_dataset))\n",
    "test_size = len(mncai_dataset) - train_size - val_size\n",
    "\n",
    "mncai_train_dataset, mncai_val_dataset, mncai_test_dataset = random_split(mncai_dataset, [train_size, val_size, test_size])"
   ]
  },
  {
   "cell_type": "code",
   "execution_count": 5,
   "id": "2b1718b2",
   "metadata": {},
   "outputs": [],
   "source": [
    "CIFAKE_train_dataset = datasets.ImageFolder(root=\"./data/CIFAKE/train\", transform=transform)\n",
    "CIFAKE_test_dataset = datasets.ImageFolder(root=\"./data/CIFAKE/test\", transform=transform)\n",
    "\n",
    "val_ratio = 0.2  \n",
    "train_size = int((1 - val_ratio) * len(CIFAKE_train_dataset))\n",
    "val_size = len(CIFAKE_train_dataset) - train_size\n",
    "\n",
    "CIFAKE_train_dataset, CIFAKE_val_dataset = random_split(CIFAKE_train_dataset, [train_size, val_size])"
   ]
  },
  {
   "cell_type": "code",
   "execution_count": 6,
   "id": "6dc1e8d4",
   "metadata": {},
   "outputs": [],
   "source": [
    "BATCH_SIZE = 128\n",
    "\n",
    "train_dataset = ConcatDataset([mncai_train_dataset, CIFAKE_train_dataset])\n",
    "val_dataset = ConcatDataset([mncai_val_dataset, CIFAKE_val_dataset])\n",
    "test_dataset = ConcatDataset([mncai_test_dataset, CIFAKE_test_dataset])\n",
    "\n",
    "train_loader = DataLoader(train_dataset, batch_size=BATCH_SIZE, shuffle=True)\n",
    "val_loader = DataLoader(val_dataset, batch_size=BATCH_SIZE, shuffle=True)\n",
    "test_loader = DataLoader(test_dataset, batch_size=BATCH_SIZE, shuffle=True)"
   ]
  },
  {
   "cell_type": "code",
   "execution_count": 7,
   "id": "01b6c1df",
   "metadata": {},
   "outputs": [],
   "source": [
    "device = torch.device(\"mps\" if torch.backends.mps.is_available() else \"cpu\")"
   ]
  },
  {
   "cell_type": "code",
   "execution_count": 8,
   "id": "bd581220",
   "metadata": {},
   "outputs": [],
   "source": [
    "model = models.resnet18(weights=models.ResNet18_Weights.DEFAULT)\n",
    "\n",
    "# Freeze earlier layers (optional)\n",
    "for param in model.parameters():\n",
    "    param.requires_grad = False\n",
    "\n",
    "# Replace final layer for binary classification with sigmoid\n",
    "num_features = model.fc.in_features\n",
    "model.fc = nn.Sequential(\n",
    "    nn.Linear(num_features, 1)\n",
    ")\n",
    "\n",
    "model = model.to(device)\n",
    "\n",
    "criterion = nn.BCEWithLogitsLoss()\n",
    "optimizer = optim.Adam(model.fc.parameters(), lr=0.001)"
   ]
  },
  {
   "cell_type": "code",
   "execution_count": 9,
   "id": "c7e49e52",
   "metadata": {},
   "outputs": [
    {
     "name": "stderr",
     "output_type": "stream",
     "text": [
      "Epoch (Training) 1/100:   0%|          | 0/735 [00:00<?, ?it/s]"
     ]
    },
    {
     "name": "stderr",
     "output_type": "stream",
     "text": [
      "                                                                           \r"
     ]
    },
    {
     "name": "stdout",
     "output_type": "stream",
     "text": [
      "Epoch 1/100, Train Loss: 0.4121, Train Acc: 0.8163, Val Loss: 0.3755, Val Acc: 0.8327\n"
     ]
    },
    {
     "name": "stderr",
     "output_type": "stream",
     "text": [
      "                                                                           \r"
     ]
    },
    {
     "name": "stdout",
     "output_type": "stream",
     "text": [
      "Epoch 2/100, Train Loss: 0.3510, Train Acc: 0.8484, Val Loss: 0.3435, Val Acc: 0.8511\n"
     ]
    },
    {
     "name": "stderr",
     "output_type": "stream",
     "text": [
      "                                                                           \r"
     ]
    },
    {
     "name": "stdout",
     "output_type": "stream",
     "text": [
      "Epoch 3/100, Train Loss: 0.3372, Train Acc: 0.8544, Val Loss: 0.3346, Val Acc: 0.8552\n"
     ]
    },
    {
     "name": "stderr",
     "output_type": "stream",
     "text": [
      "                                                                           \r"
     ]
    },
    {
     "name": "stdout",
     "output_type": "stream",
     "text": [
      "Epoch 4/100, Train Loss: 0.3327, Train Acc: 0.8559, Val Loss: 0.3289, Val Acc: 0.8600\n"
     ]
    },
    {
     "name": "stderr",
     "output_type": "stream",
     "text": [
      "                                                                           \r"
     ]
    },
    {
     "name": "stdout",
     "output_type": "stream",
     "text": [
      "Epoch 5/100, Train Loss: 0.3304, Train Acc: 0.8579, Val Loss: 0.3271, Val Acc: 0.8593\n"
     ]
    },
    {
     "name": "stderr",
     "output_type": "stream",
     "text": [
      "                                                                           \r"
     ]
    },
    {
     "name": "stdout",
     "output_type": "stream",
     "text": [
      "Early stopping at epoch 6\n"
     ]
    }
   ],
   "source": [
    "EPOCHS = 100\n",
    "train_losses = []\n",
    "train_accuracies = []\n",
    "val_losses = []\n",
    "val_accuracies = []\n",
    "\n",
    "for epoch in range(EPOCHS):\n",
    "    model.train()\n",
    "    running_loss = 0.0\n",
    "    correct = 0\n",
    "\n",
    "    # Training\n",
    "    for images, labels in tqdm(train_loader, desc=f\"Epoch (Training) {epoch+1}/{EPOCHS}\", leave = False):\n",
    "        images, labels = images.to(device), labels.to(device).float().unsqueeze(1)  # reshape to (batch, 1)\n",
    "\n",
    "        optimizer.zero_grad()\n",
    "        outputs = model(images)\n",
    "        loss = criterion(outputs, labels)\n",
    "        loss.backward()\n",
    "        optimizer.step()\n",
    "\n",
    "        running_loss += loss.item() * images.size(0)\n",
    "\n",
    "        preds = torch.sigmoid(outputs) >= 0.5\n",
    "        correct += (preds == labels.bool()).sum().item()\n",
    "\n",
    "    epoch_loss = running_loss / len(train_loader.dataset)\n",
    "    epoch_acc = correct / len(train_loader.dataset)\n",
    "    train_losses.append(epoch_loss)\n",
    "    train_accuracies.append(epoch_acc)  \n",
    "    \n",
    "    # Validation\n",
    "    model.eval()\n",
    "    val_loss = 0.0\n",
    "    val_correct = 0\n",
    "    val_total = 0\n",
    "    with torch.no_grad():\n",
    "        for val_images, val_labels in tqdm(val_loader, desc=f\"Epoch (Validation) {epoch+1}/{EPOCHS}\", leave = False):\n",
    "            val_images, val_labels = val_images.to(device), val_labels.to(device).float().unsqueeze(1)\n",
    "            val_outputs = model(val_images)\n",
    "            val_loss += criterion(val_outputs, val_labels).item() * val_images.size(0)\n",
    "            val_preds = torch.sigmoid(val_outputs) >= 0.5\n",
    "            val_correct += (val_preds == val_labels.bool()).sum().item()\n",
    "            val_total += val_labels.size(0)\n",
    "\n",
    "    val_acc = val_correct / val_total\n",
    "    val_loss = val_loss / len(val_loader.dataset)\n",
    "    val_losses.append(val_loss)\n",
    "    val_accuracies.append(val_acc)    \n",
    "    \n",
    "    # Early stopping condition\n",
    "    if epoch > 0 and val_loss > val_losses[-2]:\n",
    "        print(f\"Early stopping at epoch {epoch+1}\")\n",
    "        break    \n",
    "    \n",
    "    print(f\"Epoch {epoch+1}/{EPOCHS}, Train Loss: {epoch_loss:.4f}, Train Acc: {epoch_acc:.4f}, Val Loss: {val_loss:.4f}, Val Acc: {val_acc:.4f}\")\n",
    "\n",
    "torch.save(model, \"./models/detection_resnet18.pth\")"
   ]
  },
  {
   "cell_type": "code",
   "execution_count": 10,
   "id": "b129459b",
   "metadata": {},
   "outputs": [
    {
     "name": "stdout",
     "output_type": "stream",
     "text": [
      "Test Accuracy (threshold=0.7): 0.7530\n"
     ]
    }
   ],
   "source": [
    "threshold = 0.7 \n",
    "\n",
    "model.eval()\n",
    "correct = 0\n",
    "total = 0\n",
    "\n",
    "with torch.no_grad():\n",
    "    for images, labels in test_loader:\n",
    "        images = images.to(device)\n",
    "        labels = labels.to(device).float().unsqueeze(1)\n",
    "\n",
    "        outputs = model(images)\n",
    "        probs = torch.sigmoid(outputs)\n",
    "        preds = (probs >= threshold).int() \n",
    "\n",
    "        correct += (preds == labels.int()).sum().item()\n",
    "        total += labels.size(0)\n",
    "\n",
    "test_accuracy = correct / total\n",
    "print(f\"Test Accuracy (threshold={threshold}): {test_accuracy:.4f}\")"
   ]
  }
 ],
 "metadata": {
  "kernelspec": {
   "display_name": ".venv",
   "language": "python",
   "name": "python3"
  },
  "language_info": {
   "codemirror_mode": {
    "name": "ipython",
    "version": 3
   },
   "file_extension": ".py",
   "mimetype": "text/x-python",
   "name": "python",
   "nbconvert_exporter": "python",
   "pygments_lexer": "ipython3",
   "version": "3.13.1"
  }
 },
 "nbformat": 4,
 "nbformat_minor": 5
}
