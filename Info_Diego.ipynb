{
 "cells": [
  {
   "cell_type": "markdown",
   "metadata": {},
   "source": [
    "# Para Diego:\n",
    "\n",
    "Importante, en el file: `mmdetection/configs/htc/htc_r50_fpn_1x_artifact.py`, cambia el data_root a la ruta de tu dataset (me forzaba a poner la ruta absoluta cuando hacia mps)\n",
    "\n",
    "1. env:\n",
    "\n",
    "   - python 3.10\n",
    "   - Torch torchvision torchaudio -- cuda compatible\n",
    "   - `cd mmdetection`\n",
    "   - `pip install -e .`\n",
    "\n",
    "2. Entrenamiento:\n",
    "\n",
    "   - Corre: `python tools/train.py configs/htc/htc_r50_fpn_1x_artifact.py`\n",
    "\n",
    "3. Visualización para guardarme unos ejemplos y plots:\n",
    "\n",
    "- Corre una vez entrenado: `python tools/analysis_tools/analyze_logs.py plot_curve \\\n",
    "work_dirs/htc_r50_artifact/2024*/*.log.json \\\n",
    "    --keys loss_cls loss_bbox \\\n",
    "    --out work_dirs/htc_r50_artifact/loss_plot.png`\n",
    "\n"
   ]
  }
 ],
 "metadata": {
  "language_info": {
   "name": "python"
  }
 },
 "nbformat": 4,
 "nbformat_minor": 2
}
