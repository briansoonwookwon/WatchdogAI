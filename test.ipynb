{
 "cells": [
  {
   "cell_type": "code",
   "execution_count": 9,
   "id": "53c09ff4",
   "metadata": {},
   "outputs": [],
   "source": [
    "from tqdm import tqdm\n",
    "import torch\n",
    "from torch.utils.data import DataLoader, ConcatDataset\n",
    "import torchvision.transforms.functional as F\n",
    "from torchvision import transforms, datasets\n",
    "from transformers import AutoModelForImageClassification, AutoProcessor \n",
    "\n",
    "model_20000 = AutoModelForImageClassification.from_pretrained(\"./models/checkpoint_20000\")\n",
    "processor_20000 = AutoProcessor.from_pretrained(\"./models/checkpoint_20000\")\n",
    "\n",
    "\n",
    "model_4000 = AutoModelForImageClassification.from_pretrained(\"./models/checkpoint_4000\")\n",
    "processor_4000 = AutoProcessor.from_pretrained(\"./models/checkpoint_4000\")\n",
    "\n",
    "\n",
    "model_final = AutoModelForImageClassification.from_pretrained(\"./models/watchdog_ai\")\n",
    "processor_final = AutoProcessor.from_pretrained(\"./models/watchdog_ai\")"
   ]
  },
  {
   "cell_type": "code",
   "execution_count": 16,
   "id": "d1ef9241",
   "metadata": {},
   "outputs": [],
   "source": [
    "IMAGE_SIZE = 224\n",
    "\n",
    "unnorm = transforms.Normalize(\n",
    "    mean=[-1.0, -1.0, -1.0],\n",
    "    std=[2.0, 2.0, 2.0]\n",
    ")\n",
    "\n",
    "transform = transforms.Compose([\n",
    "    transforms.Resize((IMAGE_SIZE, IMAGE_SIZE)),\n",
    "    transforms.RandomHorizontalFlip(),\n",
    "    transforms.ToTensor(),\n",
    "    transforms.Normalize((0.5, 0.5, 0.5), (0.5, 0.5, 0.5)),\n",
    "])\n",
    "\n",
    "mncai_dataset = datasets.ImageFolder(root=\"./data/mncai/train\", transform=transform)\n",
    "CIFAKE_test_dataset = datasets.ImageFolder(root=\"./data/CIFAKE/test\", transform=transform)\n",
    "\n",
    "combined_dataset = ConcatDataset([mncai_dataset, CIFAKE_test_dataset])\n",
    "test_loader = DataLoader(combined_dataset, batch_size=32, shuffle=False)"
   ]
  },
  {
   "cell_type": "code",
   "execution_count": 17,
   "id": "80e95333",
   "metadata": {},
   "outputs": [],
   "source": [
    "device = torch.device(\"mps\" if torch.backends.mps.is_available() else \"cpu\")"
   ]
  },
  {
   "cell_type": "code",
   "execution_count": null,
   "id": "68ee6c06",
   "metadata": {},
   "outputs": [
    {
     "name": "stderr",
     "output_type": "stream",
     "text": [
      "  0%|          | 0/1250 [00:00<?, ?it/s]/Users/briankwon/Desktop/DSAN 6500/WatchdogAI/.venv/lib/python3.13/site-packages/transformers/image_processing_utils.py:42: UserWarning: The following named arguments are not valid for `ViTImageProcessor.preprocess` and were ignored: 'padding'\n",
      "  return self.preprocess(images, **kwargs)\n",
      "100%|██████████| 1250/1250 [23:56<00:00,  1.15s/it]"
     ]
    },
    {
     "name": "stdout",
     "output_type": "stream",
     "text": [
      "Accuracy at threshold 0.85: 0.7800\n"
     ]
    },
    {
     "name": "stderr",
     "output_type": "stream",
     "text": [
      "\n"
     ]
    }
   ],
   "source": [
    "from sklearn.metrics import accuracy_score\n",
    "\n",
    "threshold = 0.85\n",
    "\n",
    "model_20000.eval()\n",
    "model_20000.to(device)\n",
    "\n",
    "all_preds = []\n",
    "all_labels = []\n",
    "\n",
    "with torch.no_grad():\n",
    "    for batch in tqdm(test_loader):\n",
    "        images, labels = batch  # images: (B, 3, H, W)\n",
    "\n",
    "        # Unnormalize and convert to PIL\n",
    "        pil_images = [F.to_pil_image(unnorm(img)) for img in images]\n",
    "\n",
    "        # Preprocess using the processor\n",
    "        inputs = processor_20000(images=pil_images, return_tensors=\"pt\")\n",
    "        inputs = {k: v.to(device) for k, v in inputs.items()}\n",
    "        labels = labels.to(device)\n",
    "\n",
    "        # Forward pass\n",
    "        outputs = model_20000(**inputs)\n",
    "        logits = outputs.logits\n",
    "\n",
    "        # Get positive class probability\n",
    "        probs = torch.softmax(logits, dim=-1)\n",
    "        positive_probs = probs[:, 1]\n",
    "\n",
    "        # Stricter threshold\n",
    "        preds = (positive_probs > threshold).int()\n",
    "\n",
    "        # Store predictions and labels\n",
    "        all_preds.extend(preds.cpu().numpy())\n",
    "        all_labels.extend(labels.cpu().numpy())\n",
    "\n",
    "# Calculate accuracy\n",
    "accuracy = accuracy_score(all_labels, all_preds)\n",
    "print(f\"Accuracy at threshold {threshold}: {accuracy:.4f}\")\n"
   ]
  },
  {
   "cell_type": "code",
   "execution_count": 33,
   "id": "102fa216",
   "metadata": {},
   "outputs": [
    {
     "name": "stderr",
     "output_type": "stream",
     "text": [
      "100%|██████████| 1250/1250 [29:57<00:00,  1.44s/it]"
     ]
    },
    {
     "name": "stdout",
     "output_type": "stream",
     "text": [
      "Accuracy at threshold 0.85: 0.7759\n"
     ]
    },
    {
     "name": "stderr",
     "output_type": "stream",
     "text": [
      "\n"
     ]
    }
   ],
   "source": [
    "threshold = 0.85\n",
    "\n",
    "model_4000.eval()\n",
    "model_4000.to(device)\n",
    "\n",
    "all_preds = []\n",
    "all_labels = []\n",
    "\n",
    "with torch.no_grad():\n",
    "    for batch in tqdm(test_loader):\n",
    "        images, labels = batch  # images: (B, 3, H, W)\n",
    "\n",
    "        # Unnormalize and convert to PIL\n",
    "        pil_images = [F.to_pil_image(unnorm(img)) for img in images]\n",
    "\n",
    "        # Preprocess using the processor\n",
    "        inputs = processor_4000(images=pil_images, return_tensors=\"pt\")\n",
    "        inputs = {k: v.to(device) for k, v in inputs.items()}\n",
    "        labels = labels.to(device)\n",
    "\n",
    "        # Forward pass\n",
    "        outputs = model_4000(**inputs)\n",
    "        logits = outputs.logits\n",
    "\n",
    "        # Get positive class probability\n",
    "        probs = torch.softmax(logits, dim=-1)\n",
    "        positive_probs = probs[:, 1]\n",
    "\n",
    "        # Stricter threshold\n",
    "        preds = (positive_probs > threshold).int()\n",
    "\n",
    "        # Store predictions and labels\n",
    "        all_preds.extend(preds.cpu().numpy())\n",
    "        all_labels.extend(labels.cpu().numpy())\n",
    "\n",
    "# Calculate accuracy\n",
    "accuracy = accuracy_score(all_labels, all_preds)\n",
    "print(f\"Accuracy at threshold {threshold}: {accuracy:.4f}\")"
   ]
  },
  {
   "cell_type": "code",
   "execution_count": 4,
   "id": "51343277",
   "metadata": {},
   "outputs": [
    {
     "name": "stdout",
     "output_type": "stream",
     "text": [
      "Predicted label: REAL\n"
     ]
    }
   ],
   "source": [
    "from PIL import Image\n",
    "import torch\n",
    "\n",
    "# Load image\n",
    "image = Image.open(\"data/CIFAKE/test/REAL/0000 (3).jpg\").convert(\"RGB\")\n",
    "\n",
    "# Preprocess with processor\n",
    "inputs = processor_20000(images=image, return_tensors=\"pt\")\n",
    "\n",
    "# Send model and inputs to device\n",
    "device = torch.device(\"mps\" if torch.backends.mps.is_available() else \"cpu\")\n",
    "model_20000.to(device)\n",
    "inputs = {k: v.to(device) for k, v in inputs.items()}\n",
    "\n",
    "# Get logits (raw predictions)\n",
    "with torch.no_grad():\n",
    "    outputs = model_20000(**inputs)\n",
    "    logits = outputs.logits\n",
    "\n",
    "# Get predicted class index\n",
    "predicted_class_idx = logits.argmax(-1).item()\n",
    "\n",
    "# Optional: map to class label if available\n",
    "label = model_20000.config.id2label[predicted_class_idx]\n",
    "print(f\"Predicted label: {label}\")\n"
   ]
  },
  {
   "cell_type": "code",
   "execution_count": null,
   "id": "1585a8f3",
   "metadata": {},
   "outputs": [],
   "source": []
  }
 ],
 "metadata": {
  "kernelspec": {
   "display_name": ".venv",
   "language": "python",
   "name": "python3"
  },
  "language_info": {
   "codemirror_mode": {
    "name": "ipython",
    "version": 3
   },
   "file_extension": ".py",
   "mimetype": "text/x-python",
   "name": "python",
   "nbconvert_exporter": "python",
   "pygments_lexer": "ipython3",
   "version": "3.13.1"
  }
 },
 "nbformat": 4,
 "nbformat_minor": 5
}
