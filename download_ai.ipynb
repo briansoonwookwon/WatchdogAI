{
 "cells": [
  {
   "cell_type": "code",
   "execution_count": 2,
   "id": "4958c92b",
   "metadata": {},
   "outputs": [
    {
     "name": "stdout",
     "output_type": "stream",
     "text": [
      "\n",
      "train/ sub-folders: ['REAL', 'FAKE']\n",
      "\n",
      "test/ sub-folders: ['REAL', 'FAKE']\n"
     ]
    }
   ],
   "source": [
    "import kagglehub\n",
    "from pathlib import Path\n",
    "import shutil\n",
    "\n",
    "# Download latest version\n",
    "path = kagglehub.dataset_download(\"birdy654/cifake-real-and-ai-generated-synthetic-images\")\n",
    "dataset_path = Path(path)\n",
    "\n",
    "train_dir = dataset_path / \"train\"\n",
    "test_dir  = dataset_path / \"test\"\n",
    "out_dir   = Path(\"data/fake_images\")\n",
    "out_dir.mkdir(exist_ok=True)\n",
    "\n",
    "fake_labels = [d.name \n",
    "               for d in train_dir.iterdir() \n",
    "               if d.is_dir() and d.name.lower() != \"real\"]\n",
    "\n",
    "# 3) walk through train & test, copying fake images in\n",
    "for split_dir in (train_dir, test_dir):\n",
    "    for label in fake_labels:\n",
    "        src_dir = split_dir / label\n",
    "        if not src_dir.exists(): \n",
    "            continue\n",
    "        for img_path in src_dir.glob(\"*.*\"):\n",
    "            # prefix file with split+label to avoid name collisions\n",
    "            dest = out_dir / f\"{split_dir.name}_{label}_{img_path.name}\"\n",
    "            shutil.copy(img_path, dest)\n",
    "\n",
    "print(f\"Copied {len(list(out_dir.iterdir()))} fake images to {out_dir.resolve()}\")"
   ]
  },
  {
   "cell_type": "code",
   "execution_count": null,
   "id": "48711b78",
   "metadata": {},
   "outputs": [
    {
     "name": "stdout",
     "output_type": "stream",
     "text": [
      "✅  Copied 60000 fake images to /Users/tsigall/repositories/WatchdogAI/data/fake_images\n"
     ]
    }
   ],
   "source": [
    "train_dir = dataset_path / \"train\"\n",
    "test_dir  = dataset_path / \"test\"\n",
    "out_dir   = Path(\"data/fake_images\")\n",
    "out_dir.mkdir(exist_ok=True)\n",
    "\n",
    "fake_labels = [d.name \n",
    "               for d in train_dir.iterdir() \n",
    "               if d.is_dir() and d.name.lower() != \"real\"]\n",
    "\n",
    "# 3) walk through train & test, copying fake images in\n",
    "for split_dir in (train_dir, test_dir):\n",
    "    for label in fake_labels:\n",
    "        src_dir = split_dir / label\n",
    "        if not src_dir.exists(): \n",
    "            continue\n",
    "        for img_path in src_dir.glob(\"*.*\"):\n",
    "            # prefix file with split+label to avoid name collisions\n",
    "            dest = out_dir / f\"{split_dir.name}_{label}_{img_path.name}\"\n",
    "            shutil.copy(img_path, dest)\n",
    "\n",
    "print(f\"Copied {len(list(out_dir.iterdir()))} fake images to {out_dir.resolve()}\")"
   ]
  }
 ],
 "metadata": {
  "kernelspec": {
   "display_name": ".venv",
   "language": "python",
   "name": "python3"
  },
  "language_info": {
   "codemirror_mode": {
    "name": "ipython",
    "version": 3
   },
   "file_extension": ".py",
   "mimetype": "text/x-python",
   "name": "python",
   "nbconvert_exporter": "python",
   "pygments_lexer": "ipython3",
   "version": "3.11.5"
  }
 },
 "nbformat": 4,
 "nbformat_minor": 5
}
